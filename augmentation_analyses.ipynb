{
 "cells": [
  {
   "cell_type": "code",
   "execution_count": 1,
   "metadata": {},
   "outputs": [],
   "source": [
    "import numpy as np\n",
    "import pandas as pd\n",
    "from sklearn.linear_model import Ridge,LogisticRegression\n",
    "import matplotlib.pyplot as plt\n",
    "from sklearn.model_selection import GridSearchCV\n",
    "from statsmodels.api import OLS\n",
    "from statsmodels.stats.anova import anova_lm\n",
    "from statsmodels.formula.api import ols\n",
    "from copy import deepcopy\n",
    "from scipy.stats import probplot"
   ]
  },
  {
   "cell_type": "code",
   "execution_count": null,
   "metadata": {},
   "outputs": [],
   "source": []
  },
  {
   "cell_type": "code",
   "execution_count": null,
   "metadata": {},
   "outputs": [],
   "source": []
  },
  {
   "cell_type": "code",
   "execution_count": 2,
   "metadata": {},
   "outputs": [],
   "source": [
    "cl_res=pd.read_csv('augmentation_ablations_cl_res.csv')\n",
    "cl_res=cl_res[cl_res['model name']!='native']\n",
    "mc_res=pd.read_csv('augmentation_ablations_mc_res.csv')\n",
    "\n",
    "mc_res=mc_res[mc_res['model name']!='native']\n",
    "mc_res['score']=mc_res['pr correct'] #naming consistency for analysis \n",
    "\n",
    "diff_res=pd.read_csv('augmentation_ablations_mc_diff.csv')\n",
    "diff_res=diff_res[diff_res['model name']!='native']\n",
    "diff_res['score']=diff_res['comp minus mix']\n",
    "\n"
   ]
  },
  {
   "cell_type": "code",
   "execution_count": 3,
   "metadata": {},
   "outputs": [],
   "source": [
    "freeform_res=pd.read_csv('augmentation_ablations_freeform_res.csv')\n",
    "freeform_res['model name']=freeform_res['model']\n",
    "freeform_res=freeform_res[(freeform_res['model']!='native')&(freeform_res['model']!='gp oracle')&(freeform_res['model']!='ar')]\n",
    "freeform_res['score']=freeform_res['corr']\n"
   ]
  },
  {
   "cell_type": "code",
   "execution_count": null,
   "metadata": {},
   "outputs": [],
   "source": []
  },
  {
   "cell_type": "code",
   "execution_count": null,
   "metadata": {},
   "outputs": [],
   "source": []
  },
  {
   "cell_type": "code",
   "execution_count": 4,
   "metadata": {
    "scrolled": true
   },
   "outputs": [
    {
     "name": "stdout",
     "output_type": "stream",
     "text": [
      "cl\n",
      "1050 1050\n",
      "                            OLS Regression Results                            \n",
      "==============================================================================\n",
      "Dep. Variable:                  score   R-squared:                       0.911\n",
      "Model:                            OLS   Adj. R-squared:                  0.911\n",
      "Method:                 Least Squares   F-statistic:                     1531.\n",
      "Date:                Wed, 22 Jun 2022   Prob (F-statistic):               0.00\n",
      "Time:                        09:18:08   Log-Likelihood:                 1772.4\n",
      "No. Observations:                1050   AIC:                            -3529.\n",
      "Df Residuals:                    1042   BIC:                            -3489.\n",
      "Df Model:                           7                                         \n",
      "Covariance Type:            nonrobust                                         \n",
      "===================================================================================\n",
      "                      coef    std err          t      P>|t|      [0.025      0.975]\n",
      "-----------------------------------------------------------------------------------\n",
      "Intercept           0.3208      0.005     69.789      0.000       0.312       0.330\n",
      "C(ntr)[T.10.0]      0.1406      0.004     32.077      0.000       0.132       0.149\n",
      "C(ntr)[T.30.0]      0.2582      0.004     58.919      0.000       0.250       0.267\n",
      "C(ntr)[T.100.0]     0.3397      0.004     77.501      0.000       0.331       0.348\n",
      "C(ntr)[T.300.0]     0.3897      0.004     88.914      0.000       0.381       0.398\n",
      "T1                  0.0308      0.003     10.625      0.000       0.025       0.036\n",
      "T2                  0.0522      0.003     18.019      0.000       0.047       0.058\n",
      "T3                  0.0023      0.003      0.782      0.434      -0.003       0.008\n",
      "==============================================================================\n",
      "Omnibus:                       73.227   Durbin-Watson:                   1.363\n",
      "Prob(Omnibus):                  0.000   Jarque-Bera (JB):               99.400\n",
      "Skew:                          -0.586   Prob(JB):                     2.60e-22\n",
      "Kurtosis:                       3.948   Cond. No.                         8.24\n",
      "==============================================================================\n",
      "\n",
      "Notes:\n",
      "[1] Standard Errors assume that the covariance matrix of the errors is correctly specified.\n",
      "mc\n",
      "1050 1050\n",
      "                            OLS Regression Results                            \n",
      "==============================================================================\n",
      "Dep. Variable:                  score   R-squared:                       0.507\n",
      "Model:                            OLS   Adj. R-squared:                  0.504\n",
      "Method:                 Least Squares   F-statistic:                     153.2\n",
      "Date:                Wed, 22 Jun 2022   Prob (F-statistic):          2.51e-155\n",
      "Time:                        09:18:08   Log-Likelihood:                 1335.0\n",
      "No. Observations:                1050   AIC:                            -2654.\n",
      "Df Residuals:                    1042   BIC:                            -2614.\n",
      "Df Model:                           7                                         \n",
      "Covariance Type:            nonrobust                                         \n",
      "===================================================================================\n",
      "                      coef    std err          t      P>|t|      [0.025      0.975]\n",
      "-----------------------------------------------------------------------------------\n",
      "Intercept           0.5610      0.007     80.466      0.000       0.547       0.575\n",
      "C(ntr)[T.10.0]      0.0518      0.007      7.789      0.000       0.039       0.065\n",
      "C(ntr)[T.30.0]      0.0861      0.007     12.953      0.000       0.073       0.099\n",
      "C(ntr)[T.100.0]     0.1121      0.007     16.869      0.000       0.099       0.125\n",
      "C(ntr)[T.300.0]     0.1435      0.007     21.583      0.000       0.130       0.157\n",
      "T1                  0.0283      0.004      6.432      0.000       0.020       0.037\n",
      "T2                  0.0991      0.004     22.536      0.000       0.090       0.108\n",
      "T3                  0.0119      0.004      2.701      0.007       0.003       0.021\n",
      "==============================================================================\n",
      "Omnibus:                       20.543   Durbin-Watson:                   0.909\n",
      "Prob(Omnibus):                  0.000   Jarque-Bera (JB):               21.727\n",
      "Skew:                           0.313   Prob(JB):                     1.91e-05\n",
      "Kurtosis:                       3.324   Cond. No.                         8.24\n",
      "==============================================================================\n",
      "\n",
      "Notes:\n",
      "[1] Standard Errors assume that the covariance matrix of the errors is correctly specified.\n"
     ]
    }
   ],
   "source": [
    "regs=[]\n",
    "ys=[]\n",
    "for res,name in zip([cl_res,mc_res,freeform_res],['cl','mc']):\n",
    "    p1=np.array([1*('yjitter' in x) for x in res['model name']])\n",
    "    p2=np.array([1*('posjitter' in x) for x in res['model name']])\n",
    "    p3=np.array([1*('rescale' in x) for x in res['model name']])\n",
    "    p4=res['train size']\n",
    "    y=res['score']\n",
    "    #y=np.log(y/(1-y)) #convert to log odds (linear scale)\n",
    "    #y=np.argsort(np.argsort(y))\n",
    "\n",
    "    X=np.vstack((p1,p2,p3,p4,y)).T\n",
    "    X=pd.DataFrame(X,columns=['T1','T2','T3','ntr','score'])\n",
    "    print(name)\n",
    "    reg=ols('score~T1+T2+T3+C(ntr)',X)\n",
    "    rf=reg.fit()\n",
    "    regs.append(deepcopy(rf))\n",
    "    ys.append(deepcopy(y.values))\n",
    "    print(len(y),len(p4))\n",
    "    print(rf.summary())"
   ]
  },
  {
   "cell_type": "code",
   "execution_count": null,
   "metadata": {},
   "outputs": [],
   "source": []
  },
  {
   "cell_type": "code",
   "execution_count": 5,
   "metadata": {},
   "outputs": [
    {
     "data": {
      "image/png": "[encoded data removed]",
      "text/plain": [
       "<Figure size 720x720 with 4 Axes>"
      ]
     },
     "metadata": {
      "needs_background": "light"
     },
     "output_type": "display_data"
    }
   ],
   "source": [
    "#residual diagnostics\n",
    "plt.figure(figsize=(10,10))\n",
    "for i0 in range(2):\n",
    "    ax=plt.subplot(2,2,i0+1)\n",
    "    resids=regs[i0].fittedvalues-ys[i0]\n",
    "    probplot(resids,plot=ax,fit=True)\n",
    "    plt.title(['categorization','multiple choice completion'][i0])\n",
    "    if i0>0:\n",
    "        plt.ylabel('')\n",
    "    plt.subplot(2,2,i0+1+2)\n",
    "    plt.scatter(regs[i0].fittedvalues,resids)\n",
    "    plt.xlabel('predicted value')\n",
    "    if i0==0:\n",
    "        plt.ylabel('residual')\n",
    "plt.savefig('aug_ablation_residuals.pdf')"
   ]
  },
  {
   "cell_type": "code",
   "execution_count": null,
   "metadata": {},
   "outputs": [],
   "source": []
  },
  {
   "cell_type": "code",
   "execution_count": 6,
   "metadata": {},
   "outputs": [],
   "source": [
    "#computing bootstrapped confide\n",
    "res_type='freeform'\n",
    "q='_res' if res_type!='mc_diff' else ''\n",
    "aa=pd.read_csv(f'saved_models_{res_type}{q}.csv')\n",
    "#for bootstrapping, need to separately treat the \"native\" model bc there are fewer observations\n",
    "try:\n",
    "    aa['model name']=aa['model']\n",
    "except:\n",
    "    pass\n",
    "aa,aa_native=aa[aa['model name']!='native'],aa[aa['model name']=='native']\n",
    "aa=aa[aa['train size']>0]"
   ]
  },
  {
   "cell_type": "code",
   "execution_count": null,
   "metadata": {},
   "outputs": [],
   "source": []
  },
  {
   "cell_type": "code",
   "execution_count": 7,
   "metadata": {},
   "outputs": [],
   "source": [
    "value_name=dict({'cl':'score','mc':'pr correct','mc_diff':'comp minus mix','freeform':'corr'})[res_type]\n",
    "#reshape dataframe so that all observations for given model/trian size are in different columns\n",
    "bb=aa.pivot_table(values=value_name,index=['model name','train size'],columns=['run id','task id']).reset_index()\n",
    "bb_native=np.array([aa_native[aa_native['train size']==x][value_name].values for x in sorted(aa_native['train size'].unique())])"
   ]
  },
  {
   "cell_type": "code",
   "execution_count": null,
   "metadata": {},
   "outputs": [],
   "source": []
  },
  {
   "cell_type": "code",
   "execution_count": null,
   "metadata": {},
   "outputs": [],
   "source": []
  },
  {
   "cell_type": "code",
   "execution_count": 8,
   "metadata": {},
   "outputs": [],
   "source": [
    "#bootstrap sample mean estimates\n",
    "sample_means=[]\n",
    "sample_means_native=[]\n",
    "for _ in range(10): #10000\n",
    "    ids=np.random.choice(30,30,replace=True)\n",
    "    sample_means.append(bb[bb.columns[2:][ids]].mean(1).values)\n",
    "    ids=np.random.choice(10,10,replace=True)\n",
    "    sample_means_native.append(bb_native[:,ids].mean(1))\n",
    "\n",
    "sample_means=np.array(sample_means).T\n",
    "sample_means_native=np.array(sample_means_native).T\n",
    "    "
   ]
  },
  {
   "cell_type": "code",
   "execution_count": 9,
   "metadata": {},
   "outputs": [],
   "source": [
    "lci,uci=np.percentile(sample_means,2.5,axis=1),np.percentile(sample_means,97.5,axis=1),"
   ]
  },
  {
   "cell_type": "code",
   "execution_count": 10,
   "metadata": {
    "scrolled": true
   },
   "outputs": [
    {
     "name": "stderr",
     "output_type": "stream",
     "text": [
      "<ipython-input-10-5dbf48989566>:2: SettingWithCopyWarning: \n",
      "A value is trying to be set on a copy of a slice from a DataFrame.\n",
      "Try using .loc[row_indexer,col_indexer] = value instead\n",
      "\n",
      "See the caveats in the documentation: https://pandas.pydata.org/pandas-docs/stable/user_guide/indexing.html#returning-a-view-versus-a-copy\n",
      "  bb_ci['mean']=bb[bb.columns[2:]].mean(1).values\n",
      "<ipython-input-10-5dbf48989566>:3: SettingWithCopyWarning: \n",
      "A value is trying to be set on a copy of a slice from a DataFrame.\n",
      "Try using .loc[row_indexer,col_indexer] = value instead\n",
      "\n",
      "See the caveats in the documentation: https://pandas.pydata.org/pandas-docs/stable/user_guide/indexing.html#returning-a-view-versus-a-copy\n",
      "  bb_ci['lci'],bb_ci['uci']=lci,uci\n"
     ]
    }
   ],
   "source": [
    "bb_ci=bb[['model name','train size']]\n",
    "bb_ci['mean']=bb[bb.columns[2:]].mean(1).values\n",
    "bb_ci['lci'],bb_ci['uci']=lci,uci\n",
    "\n",
    "\n",
    "bb_ci_native=pd.DataFrame(columns=bb_ci.columns)\n",
    "bb_ci_native['mean']=bb_native.mean(1)\n",
    "bb_ci_native['model name']='native'\n",
    "bb_ci_native['train size']=sorted(bb['train size'].unique())\n",
    "bb_ci_native['lci']=np.percentile(sample_means_native,2.5,axis=1)\n",
    "bb_ci_native['uci']=np.percentile(sample_means_native,97.5,axis=1)\n",
    "\n",
    "bb_ci=pd.concat((bb_ci,bb_ci_native))\n",
    "bb_ci['ci width']=.5*(bb_ci['uci']-bb_ci['lci'])"
   ]
  },
  {
   "cell_type": "code",
   "execution_count": 11,
   "metadata": {},
   "outputs": [
    {
     "name": "stderr",
     "output_type": "stream",
     "text": [
      "/home/simon/anaconda3/lib/python3.8/site-packages/pandas/core/generic.py:3887: PerformanceWarning: dropping on a non-lexsorted multi-index without a level parameter may impact performance.\n",
      "  obj = obj._drop_axis(labels, axis, level=level, errors=errors)\n"
     ]
    }
   ],
   "source": [
    "xx=bb_ci.pivot_table(index='model name', columns='train size',values='ci width')*100"
   ]
  },
  {
   "cell_type": "code",
   "execution_count": 12,
   "metadata": {},
   "outputs": [],
   "source": [
    "#reorder rows for direct comparisno with table in writeup\n",
    "xx=xx.reindex(['contrastive','cnp','cpc','native','t-loss','tnc_catwindow','vae','contrastive-cnp-encoder','contrastive-fc-encoder'])"
   ]
  },
  {
   "cell_type": "code",
   "execution_count": 13,
   "metadata": {},
   "outputs": [
    {
     "name": "stdout",
     "output_type": "stream",
     "text": [
      "\\begin{tabular}{lrrrrr}\n",
      "\\toprule\n",
      "task id \\\\\n",
      "train size &       1   &       3   &       10  &       30  &       100 \\\\\n",
      "model name              &           &           &           &           &           \\\\\n",
      "\\midrule\n",
      "contrastive             &  1.353537 &  1.772430 &  1.037958 &  0.983861 &  0.979752 \\\\\n",
      "cnp                     &  2.457306 &  2.094562 &  1.530885 &  1.247936 &  0.989231 \\\\\n",
      "cpc                     &  1.588626 &  2.729347 &  1.797128 &  1.442742 &  1.244126 \\\\\n",
      "native                  &  2.110540 &  3.444988 &  3.249204 &  2.398709 &  1.714228 \\\\\n",
      "t-loss                  &  1.798841 &  2.041732 &  0.877112 &  1.004609 &  1.003064 \\\\\n",
      "tnc\\_catwindow           &  2.063345 &  1.929521 &  0.971577 &  1.051583 &  0.951397 \\\\\n",
      "vae                     &  2.548386 &  2.948783 &  2.338728 &  2.602162 &  2.685770 \\\\\n",
      "contrastive-cnp-encoder &  1.744545 &  1.796979 &  0.966032 &  1.000981 &  0.979630 \\\\\n",
      "contrastive-fc-encoder  &  1.634464 &  2.168969 &  1.273548 &  1.371772 &  1.080000 \\\\\n",
      "\\bottomrule\n",
      "\\end{tabular}\n",
      "\n"
     ]
    }
   ],
   "source": [
    "print(xx.to_latex())"
   ]
  },
  {
   "cell_type": "code",
   "execution_count": 14,
   "metadata": {},
   "outputs": [],
   "source": [
    "from statsmodels.stats.anova import anova_lm\n",
    "from statsmodels.formula.api import ols"
   ]
  },
  {
   "cell_type": "code",
   "execution_count": null,
   "metadata": {},
   "outputs": [],
   "source": []
  },
  {
   "cell_type": "code",
   "execution_count": 15,
   "metadata": {},
   "outputs": [],
   "source": [
    "#set up regression with hyperparameter value as main effect \n",
    "aa['value']=aa[value_name]\n",
    "aa['run_id']=aa['run id']\n",
    "aa['task_id']=aa['task id']\n",
    "aa['model_name']=aa['model name']\n",
    "aa['train_size']=aa['train size']\n"
   ]
  },
  {
   "cell_type": "code",
   "execution_count": 16,
   "metadata": {},
   "outputs": [
    {
     "data": {
      "text/html": [
       "<div>\n",
       "<style scoped>\n",
       "    .dataframe tbody tr th:only-of-type {\n",
       "        vertical-align: middle;\n",
       "    }\n",
       "\n",
       "    .dataframe tbody tr th {\n",
       "        vertical-align: top;\n",
       "    }\n",
       "\n",
       "    .dataframe thead th {\n",
       "        text-align: right;\n",
       "    }\n",
       "</style>\n",
       "<table border=\"1\" class=\"dataframe\">\n",
       "  <thead>\n",
       "    <tr style=\"text-align: right;\">\n",
       "      <th></th>\n",
       "      <th>df</th>\n",
       "      <th>sum_sq</th>\n",
       "      <th>mean_sq</th>\n",
       "      <th>F</th>\n",
       "      <th>PR(&gt;F)</th>\n",
       "    </tr>\n",
       "  </thead>\n",
       "  <tbody>\n",
       "    <tr>\n",
       "      <th>C(task_id)</th>\n",
       "      <td>9.0</td>\n",
       "      <td>0.873982</td>\n",
       "      <td>0.097109</td>\n",
       "      <td>29.119538</td>\n",
       "      <td>3.063869e-46</td>\n",
       "    </tr>\n",
       "    <tr>\n",
       "      <th>C(model_name)</th>\n",
       "      <td>8.0</td>\n",
       "      <td>8.614636</td>\n",
       "      <td>1.076830</td>\n",
       "      <td>322.902482</td>\n",
       "      <td>1.200574e-295</td>\n",
       "    </tr>\n",
       "    <tr>\n",
       "      <th>C(train_size)</th>\n",
       "      <td>4.0</td>\n",
       "      <td>11.208662</td>\n",
       "      <td>2.802165</td>\n",
       "      <td>840.268692</td>\n",
       "      <td>0.000000e+00</td>\n",
       "    </tr>\n",
       "    <tr>\n",
       "      <th>Residual</th>\n",
       "      <td>1228.0</td>\n",
       "      <td>4.095189</td>\n",
       "      <td>0.003335</td>\n",
       "      <td>NaN</td>\n",
       "      <td>NaN</td>\n",
       "    </tr>\n",
       "  </tbody>\n",
       "</table>\n",
       "</div>"
      ],
      "text/plain": [
       "                   df     sum_sq   mean_sq           F         PR(>F)\n",
       "C(task_id)        9.0   0.873982  0.097109   29.119538   3.063869e-46\n",
       "C(model_name)     8.0   8.614636  1.076830  322.902482  1.200574e-295\n",
       "C(train_size)     4.0  11.208662  2.802165  840.268692   0.000000e+00\n",
       "Residual       1228.0   4.095189  0.003335         NaN            NaN"
      ]
     },
     "execution_count": 16,
     "metadata": {},
     "output_type": "execute_result"
    }
   ],
   "source": [
    "o=ols('value~C(task_id)+C(model_name)+C(train_size)',aa).fit()\n",
    "anova_lm(o)"
   ]
  },
  {
   "cell_type": "code",
   "execution_count": 17,
   "metadata": {},
   "outputs": [
    {
     "data": {
      "text/html": [
       "<table class=\"simpletable\">\n",
       "<caption>OLS Regression Results</caption>\n",
       "<tr>\n",
       "  <th>Dep. Variable:</th>          <td>value</td>      <th>  R-squared:         </th> <td>   0.835</td>\n",
       "</tr>\n",
       "<tr>\n",
       "  <th>Model:</th>                   <td>OLS</td>       <th>  Adj. R-squared:    </th> <td>   0.832</td>\n",
       "</tr>\n",
       "<tr>\n",
       "  <th>Method:</th>             <td>Least Squares</td>  <th>  F-statistic:       </th> <td>   295.5</td>\n",
       "</tr>\n",
       "<tr>\n",
       "  <th>Date:</th>             <td>Wed, 22 Jun 2022</td> <th>  Prob (F-statistic):</th>  <td>  0.00</td> \n",
       "</tr>\n",
       "<tr>\n",
       "  <th>Time:</th>                 <td>09:18:09</td>     <th>  Log-Likelihood:    </th> <td>  1802.0</td>\n",
       "</tr>\n",
       "<tr>\n",
       "  <th>No. Observations:</th>      <td>  1250</td>      <th>  AIC:               </th> <td>  -3560.</td>\n",
       "</tr>\n",
       "<tr>\n",
       "  <th>Df Residuals:</th>          <td>  1228</td>      <th>  BIC:               </th> <td>  -3447.</td>\n",
       "</tr>\n",
       "<tr>\n",
       "  <th>Df Model:</th>              <td>    21</td>      <th>                     </th>     <td> </td>   \n",
       "</tr>\n",
       "<tr>\n",
       "  <th>Covariance Type:</th>      <td>nonrobust</td>    <th>                     </th>     <td> </td>   \n",
       "</tr>\n",
       "</table>\n",
       "<table class=\"simpletable\">\n",
       "<tr>\n",
       "                      <td></td>                        <th>coef</th>     <th>std err</th>      <th>t</th>      <th>P>|t|</th>  <th>[0.025</th>    <th>0.975]</th>  \n",
       "</tr>\n",
       "<tr>\n",
       "  <th>Intercept</th>                                <td>    0.0465</td> <td>    0.010</td> <td>    4.617</td> <td> 0.000</td> <td>    0.027</td> <td>    0.066</td>\n",
       "</tr>\n",
       "<tr>\n",
       "  <th>C(task_id)[T.1]</th>                          <td>   -0.0508</td> <td>    0.007</td> <td>   -6.953</td> <td> 0.000</td> <td>   -0.065</td> <td>   -0.036</td>\n",
       "</tr>\n",
       "<tr>\n",
       "  <th>C(task_id)[T.2]</th>                          <td>   -0.0577</td> <td>    0.007</td> <td>   -7.902</td> <td> 0.000</td> <td>   -0.072</td> <td>   -0.043</td>\n",
       "</tr>\n",
       "<tr>\n",
       "  <th>C(task_id)[T.3]</th>                          <td>   -0.0463</td> <td>    0.007</td> <td>   -6.332</td> <td> 0.000</td> <td>   -0.061</td> <td>   -0.032</td>\n",
       "</tr>\n",
       "<tr>\n",
       "  <th>C(task_id)[T.4]</th>                          <td>   -0.0509</td> <td>    0.007</td> <td>   -6.969</td> <td> 0.000</td> <td>   -0.065</td> <td>   -0.037</td>\n",
       "</tr>\n",
       "<tr>\n",
       "  <th>C(task_id)[T.5]</th>                          <td>   -0.0285</td> <td>    0.007</td> <td>   -3.907</td> <td> 0.000</td> <td>   -0.043</td> <td>   -0.014</td>\n",
       "</tr>\n",
       "<tr>\n",
       "  <th>C(task_id)[T.6]</th>                          <td>   -0.0160</td> <td>    0.007</td> <td>   -2.190</td> <td> 0.029</td> <td>   -0.030</td> <td>   -0.002</td>\n",
       "</tr>\n",
       "<tr>\n",
       "  <th>C(task_id)[T.7]</th>                          <td>   -0.0701</td> <td>    0.007</td> <td>   -9.593</td> <td> 0.000</td> <td>   -0.084</td> <td>   -0.056</td>\n",
       "</tr>\n",
       "<tr>\n",
       "  <th>C(task_id)[T.8]</th>                          <td>   -0.0008</td> <td>    0.007</td> <td>   -0.107</td> <td> 0.915</td> <td>   -0.015</td> <td>    0.014</td>\n",
       "</tr>\n",
       "<tr>\n",
       "  <th>C(task_id)[T.9]</th>                          <td>   -0.0807</td> <td>    0.007</td> <td>  -11.042</td> <td> 0.000</td> <td>   -0.095</td> <td>   -0.066</td>\n",
       "</tr>\n",
       "<tr>\n",
       "  <th>C(model_name)[T.cnp]</th>                     <td>    0.1952</td> <td>    0.009</td> <td>   20.695</td> <td> 0.000</td> <td>    0.177</td> <td>    0.214</td>\n",
       "</tr>\n",
       "<tr>\n",
       "  <th>C(model_name)[T.contrastive]</th>             <td>    0.3778</td> <td>    0.009</td> <td>   40.062</td> <td> 0.000</td> <td>    0.359</td> <td>    0.396</td>\n",
       "</tr>\n",
       "<tr>\n",
       "  <th>C(model_name)[T.contrastive-cnp-encoder]</th> <td>    0.1970</td> <td>    0.009</td> <td>   20.893</td> <td> 0.000</td> <td>    0.179</td> <td>    0.216</td>\n",
       "</tr>\n",
       "<tr>\n",
       "  <th>C(model_name)[T.contrastive-fc-encoder]</th>  <td>    0.3164</td> <td>    0.009</td> <td>   33.555</td> <td> 0.000</td> <td>    0.298</td> <td>    0.335</td>\n",
       "</tr>\n",
       "<tr>\n",
       "  <th>C(model_name)[T.cpc]</th>                     <td>    0.2850</td> <td>    0.009</td> <td>   30.221</td> <td> 0.000</td> <td>    0.266</td> <td>    0.303</td>\n",
       "</tr>\n",
       "<tr>\n",
       "  <th>C(model_name)[T.t-loss]</th>                  <td>    0.3168</td> <td>    0.009</td> <td>   33.591</td> <td> 0.000</td> <td>    0.298</td> <td>    0.335</td>\n",
       "</tr>\n",
       "<tr>\n",
       "  <th>C(model_name)[T.tnc_catwindow]</th>           <td>    0.2711</td> <td>    0.009</td> <td>   28.744</td> <td> 0.000</td> <td>    0.253</td> <td>    0.290</td>\n",
       "</tr>\n",
       "<tr>\n",
       "  <th>C(model_name)[T.vae]</th>                     <td>    0.1841</td> <td>    0.009</td> <td>   19.520</td> <td> 0.000</td> <td>    0.166</td> <td>    0.203</td>\n",
       "</tr>\n",
       "<tr>\n",
       "  <th>C(train_size)[T.3]</th>                       <td>    0.1327</td> <td>    0.005</td> <td>   25.683</td> <td> 0.000</td> <td>    0.123</td> <td>    0.143</td>\n",
       "</tr>\n",
       "<tr>\n",
       "  <th>C(train_size)[T.10]</th>                      <td>    0.2181</td> <td>    0.005</td> <td>   42.219</td> <td> 0.000</td> <td>    0.208</td> <td>    0.228</td>\n",
       "</tr>\n",
       "<tr>\n",
       "  <th>C(train_size)[T.30]</th>                      <td>    0.2422</td> <td>    0.005</td> <td>   46.889</td> <td> 0.000</td> <td>    0.232</td> <td>    0.252</td>\n",
       "</tr>\n",
       "<tr>\n",
       "  <th>C(train_size)[T.100]</th>                     <td>    0.2538</td> <td>    0.005</td> <td>   49.135</td> <td> 0.000</td> <td>    0.244</td> <td>    0.264</td>\n",
       "</tr>\n",
       "</table>\n",
       "<table class=\"simpletable\">\n",
       "<tr>\n",
       "  <th>Omnibus:</th>       <td>40.639</td> <th>  Durbin-Watson:     </th> <td>   1.092</td>\n",
       "</tr>\n",
       "<tr>\n",
       "  <th>Prob(Omnibus):</th> <td> 0.000</td> <th>  Jarque-Bera (JB):  </th> <td>  94.761</td>\n",
       "</tr>\n",
       "<tr>\n",
       "  <th>Skew:</th>          <td>-0.121</td> <th>  Prob(JB):          </th> <td>2.65e-21</td>\n",
       "</tr>\n",
       "<tr>\n",
       "  <th>Kurtosis:</th>      <td> 4.327</td> <th>  Cond. No.          </th> <td>    17.9</td>\n",
       "</tr>\n",
       "</table><br/><br/>Notes:<br/>[1] Standard Errors assume that the covariance matrix of the errors is correctly specified."
      ],
      "text/plain": [
       "<class 'statsmodels.iolib.summary.Summary'>\n",
       "\"\"\"\n",
       "                            OLS Regression Results                            \n",
       "==============================================================================\n",
       "Dep. Variable:                  value   R-squared:                       0.835\n",
       "Model:                            OLS   Adj. R-squared:                  0.832\n",
       "Method:                 Least Squares   F-statistic:                     295.5\n",
       "Date:                Wed, 22 Jun 2022   Prob (F-statistic):               0.00\n",
       "Time:                        09:18:09   Log-Likelihood:                 1802.0\n",
       "No. Observations:                1250   AIC:                            -3560.\n",
       "Df Residuals:                    1228   BIC:                            -3447.\n",
       "Df Model:                          21                                         \n",
       "Covariance Type:            nonrobust                                         \n",
       "============================================================================================================\n",
       "                                               coef    std err          t      P>|t|      [0.025      0.975]\n",
       "------------------------------------------------------------------------------------------------------------\n",
       "Intercept                                    0.0465      0.010      4.617      0.000       0.027       0.066\n",
       "C(task_id)[T.1]                             -0.0508      0.007     -6.953      0.000      -0.065      -0.036\n",
       "C(task_id)[T.2]                             -0.0577      0.007     -7.902      0.000      -0.072      -0.043\n",
       "C(task_id)[T.3]                             -0.0463      0.007     -6.332      0.000      -0.061      -0.032\n",
       "C(task_id)[T.4]                             -0.0509      0.007     -6.969      0.000      -0.065      -0.037\n",
       "C(task_id)[T.5]                             -0.0285      0.007     -3.907      0.000      -0.043      -0.014\n",
       "C(task_id)[T.6]                             -0.0160      0.007     -2.190      0.029      -0.030      -0.002\n",
       "C(task_id)[T.7]                             -0.0701      0.007     -9.593      0.000      -0.084      -0.056\n",
       "C(task_id)[T.8]                             -0.0008      0.007     -0.107      0.915      -0.015       0.014\n",
       "C(task_id)[T.9]                             -0.0807      0.007    -11.042      0.000      -0.095      -0.066\n",
       "C(model_name)[T.cnp]                         0.1952      0.009     20.695      0.000       0.177       0.214\n",
       "C(model_name)[T.contrastive]                 0.3778      0.009     40.062      0.000       0.359       0.396\n",
       "C(model_name)[T.contrastive-cnp-encoder]     0.1970      0.009     20.893      0.000       0.179       0.216\n",
       "C(model_name)[T.contrastive-fc-encoder]      0.3164      0.009     33.555      0.000       0.298       0.335\n",
       "C(model_name)[T.cpc]                         0.2850      0.009     30.221      0.000       0.266       0.303\n",
       "C(model_name)[T.t-loss]                      0.3168      0.009     33.591      0.000       0.298       0.335\n",
       "C(model_name)[T.tnc_catwindow]               0.2711      0.009     28.744      0.000       0.253       0.290\n",
       "C(model_name)[T.vae]                         0.1841      0.009     19.520      0.000       0.166       0.203\n",
       "C(train_size)[T.3]                           0.1327      0.005     25.683      0.000       0.123       0.143\n",
       "C(train_size)[T.10]                          0.2181      0.005     42.219      0.000       0.208       0.228\n",
       "C(train_size)[T.30]                          0.2422      0.005     46.889      0.000       0.232       0.252\n",
       "C(train_size)[T.100]                         0.2538      0.005     49.135      0.000       0.244       0.264\n",
       "==============================================================================\n",
       "Omnibus:                       40.639   Durbin-Watson:                   1.092\n",
       "Prob(Omnibus):                  0.000   Jarque-Bera (JB):               94.761\n",
       "Skew:                          -0.121   Prob(JB):                     2.65e-21\n",
       "Kurtosis:                       4.327   Cond. No.                         17.9\n",
       "==============================================================================\n",
       "\n",
       "Notes:\n",
       "[1] Standard Errors assume that the covariance matrix of the errors is correctly specified.\n",
       "\"\"\""
      ]
     },
     "execution_count": 17,
     "metadata": {},
     "output_type": "execute_result"
    }
   ],
   "source": [
    "o.summary()"
   ]
  },
  {
   "cell_type": "code",
   "execution_count": null,
   "metadata": {},
   "outputs": [],
   "source": []
  },
  {
   "cell_type": "code",
   "execution_count": null,
   "metadata": {},
   "outputs": [],
   "source": []
  },
  {
   "cell_type": "code",
   "execution_count": null,
   "metadata": {},
   "outputs": [],
   "source": []
  },
  {
   "cell_type": "code",
   "execution_count": null,
   "metadata": {},
   "outputs": [],
   "source": []
  },
  {
   "cell_type": "code",
   "execution_count": null,
   "metadata": {},
   "outputs": [],
   "source": []
  },
  {
   "cell_type": "code",
   "execution_count": null,
   "metadata": {},
   "outputs": [],
   "source": []
  }
 ],
 "metadata": {
  "kernelspec": {
   "display_name": "Python 3",
   "language": "python",
   "name": "python3"
  },
  "language_info": {
   "codemirror_mode": {
    "name": "ipython",
    "version": 3
   },
   "file_extension": ".py",
   "mimetype": "text/x-python",
   "name": "python",
   "nbconvert_exporter": "python",
   "pygments_lexer": "ipython3",
   "version": "3.8.5"
  }
 },
 "nbformat": 4,
 "nbformat_minor": 4
}
