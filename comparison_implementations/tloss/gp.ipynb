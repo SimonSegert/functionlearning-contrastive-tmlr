{
 "cells": [
  {
   "cell_type": "code",
   "execution_count": 1,
   "metadata": {},
   "outputs": [],
   "source": [
    "import os\n",
    "import math\n",
    "\n",
    "import scipy as sp\n",
    "import numpy as np\n",
    "import pandas as pd\n",
    "\n",
    "import matplotlib\n",
    "import matplotlib.pyplot as plt\n",
    "\n",
    "import sklearn\n",
    "from sklearn import cluster\n",
    "from sklearn import neighbors\n",
    "\n",
    "import torch\n",
    "import torch.nn as nn\n",
    "import torch.optim as optim\n",
    "\n",
    "import scikit_wrappers\n",
    "import sys\n",
    "sys.path.append('/home/simon/Desktop/Code/functionlearning-contrastive')\n",
    "from GP_utils import *"
   ]
  },
  {
   "cell_type": "code",
   "execution_count": 2,
   "metadata": {},
   "outputs": [
    {
     "name": "stdout",
     "output_type": "stream",
     "text": [
      "Using CUDA...\n"
     ]
    }
   ],
   "source": [
    "cuda = False\n",
    "if torch.cuda.is_available():\n",
    "    print(\"Using CUDA...\")\n",
    "    cuda = True\n",
    "\n",
    "# GPU number\n",
    "gpu = 0"
   ]
  },
  {
   "cell_type": "code",
   "execution_count": 3,
   "metadata": {},
   "outputs": [],
   "source": [
    "def rand_rescale(inp, min_ht=.8):\n",
    "    # rescale each curve to lie completely the interval [0,1], with difference between min and max at least min_ht\n",
    "\n",
    "    new_mins = np.random.uniform(size=len(inp), low=0, high=(1 - min_ht) / 2)\n",
    "    new_maxs = np.random.uniform(size=len(inp), low=(1 + min_ht) / 2, high=1)\n",
    "\n",
    "    # first rescale so min=0 and max=1\n",
    "    outp = inp - np.min(inp, axis=1)[:, None]\n",
    "    outp = outp / np.max(outp, axis=1)[:, None]\n",
    "\n",
    "    outp = outp * (new_maxs - new_mins)[:, None] + new_mins[:, None]\n",
    "    return outp\n"
   ]
  },
  {
   "cell_type": "code",
   "execution_count": 4,
   "metadata": {},
   "outputs": [],
   "source": [
    "train = []\n",
    "total_curves=50000*200\n",
    "xs=np.linspace(0,10,100)\n",
    "for _ in range(total_curves//100):\n",
    "    K, n = sample_comp_kernel() if np.random.rand() < .5 else sample_mix_kernel()\n",
    "    n = 10 ** -5\n",
    "\n",
    "    y1 = sample_gaussian(100, C=K.cov(xs, xs) + n * np.eye(len(xs)), use_svd=True)\n",
    "    train.append(y1)\n",
    "train = np.concatenate(train, axis=0)\n"
   ]
  },
  {
   "cell_type": "code",
   "execution_count": 5,
   "metadata": {},
   "outputs": [],
   "source": [
    "\n",
    "train =rand_rescale(train)\n",
    "train=train[:,None,:]"
   ]
  },
  {
   "cell_type": "code",
   "execution_count": null,
   "metadata": {},
   "outputs": [],
   "source": []
  },
  {
   "cell_type": "code",
   "execution_count": 6,
   "metadata": {},
   "outputs": [],
   "source": [
    "hyperparameters = {\n",
    "    \"batch_size\": 10,\n",
    "    \"channels\": 40,\n",
    "    \"compared_length\": None,\n",
    "    \"depth\": 10,\n",
    "    \"nb_steps\": 1,\n",
    "    \"in_channels\": 1,\n",
    "    \"kernel_size\": 3,\n",
    "    \"penalty\": None,\n",
    "    \"early_stopping\": None,\n",
    "    \"lr\": 0.001,\n",
    "    \"nb_random_samples\": 10,\n",
    "    \"negative_penalty\": 1,\n",
    "    \"out_channels\": 320,\n",
    "    \"reduced_size\": 160,\n",
    "    \"cuda\": cuda,\n",
    "    \"gpu\": gpu\n",
    "}"
   ]
  },
  {
   "cell_type": "code",
   "execution_count": 7,
   "metadata": {},
   "outputs": [
    {
     "data": {
      "text/plain": [
       "CausalCNNEncoderClassifier(batch_size=10, channels=40, compared_length=inf,\n",
       "                           cuda=True, depth=10, kernel_size=3, nb_steps=1,\n",
       "                           out_channels=320, penalty=None, reduced_size=160)"
      ]
     },
     "execution_count": 7,
     "metadata": {},
     "output_type": "execute_result"
    }
   ],
   "source": [
    "encoder_yearly = scikit_wrappers.CausalCNNEncoderClassifier()\n",
    "encoder_yearly.set_params(**hyperparameters)"
   ]
  },
  {
   "cell_type": "code",
   "execution_count": null,
   "metadata": {},
   "outputs": [
    {
     "name": "stdout",
     "output_type": "stream",
     "text": [
      "Epoch:  1\n",
      "0.7058522349086068\n",
      "Epoch:  1\n",
      "0.7059034355639752\n",
      "Epoch:  1\n",
      "0.7059546362193436\n",
      "Epoch:  1\n",
      "0.706005836874712\n",
      "Epoch:  1\n",
      "0.7060570375300804\n",
      "Epoch:  1\n",
      "0.7061082381854488\n",
      "Epoch:  1\n",
      "0.7061594388408171\n",
      "Epoch:  1\n",
      "0.7062106394961856\n",
      "Epoch:  1\n",
      "0.7062618401515539\n",
      "Epoch:  1\n",
      "0.7063130408069224\n",
      "Epoch:  1\n",
      "0.7063642414622907\n",
      "Epoch:  1\n",
      "0.706415442117659\n",
      "Epoch:  1\n",
      "0.7064666427730275\n",
      "Epoch:  1\n",
      "0.7065178434283959\n",
      "Epoch:  1\n",
      "0.7065690440837643\n",
      "Epoch:  1\n",
      "0.7066202447391327\n",
      "Epoch:  1\n",
      "0.706671445394501\n",
      "Epoch:  1\n",
      "0.7067226460498695\n",
      "Epoch:  1\n",
      "0.7067738467052378\n",
      "Epoch:  1\n",
      "0.7068250473606063\n",
      "Epoch:  1\n",
      "0.7068762480159746\n",
      "Epoch:  1\n",
      "0.7069274486713429\n",
      "Epoch:  1\n",
      "0.7069786493267114\n",
      "Epoch:  1\n",
      "0.7070298499820797\n",
      "Epoch:  1\n",
      "0.7070810506374482\n",
      "Epoch:  1\n",
      "0.7071322512928165\n",
      "Epoch:  1\n",
      "0.7071834519481849\n",
      "Epoch:  1\n",
      "0.7072346526035533\n",
      "Epoch:  1\n",
      "0.7072858532589217\n",
      "Epoch:  1\n",
      "0.7073370539142901\n",
      "Epoch:  1\n",
      "0.7073882545696585\n",
      "Epoch:  1\n",
      "0.7074394552250268\n",
      "Epoch:  1\n",
      "0.7074906558803953\n",
      "Epoch:  1\n",
      "0.7075418565357636\n",
      "Epoch:  1\n",
      "0.7075930571911321\n",
      "Epoch:  1\n",
      "0.7076442578465004\n",
      "Epoch:  1\n",
      "0.7076954585018689\n",
      "Epoch:  1\n",
      "0.7077466591572372\n",
      "Epoch:  1\n",
      "0.7077978598126056\n",
      "Epoch:  1\n",
      "0.707849060467974\n",
      "Epoch:  1\n",
      "0.7079002611233424\n",
      "Epoch:  1\n",
      "0.7079514617787108\n",
      "Epoch:  1\n",
      "0.7080026624340792\n",
      "Epoch:  1\n",
      "0.7080538630894475\n",
      "Epoch:  1\n",
      "0.708105063744816\n",
      "Epoch:  1\n",
      "0.7081562644001843\n",
      "Epoch:  1\n",
      "0.7082074650555528\n",
      "Epoch:  1\n",
      "0.7082586657109211\n",
      "Epoch:  1\n",
      "0.7083098663662895\n",
      "Epoch:  1\n",
      "0.7083610670216579\n",
      "Epoch:  1\n",
      "0.7084122676770263\n",
      "Epoch:  1\n",
      "0.7084634683323947\n",
      "Epoch:  1\n",
      "0.708514668987763\n",
      "Epoch:  1\n",
      "0.7085658696431314\n",
      "Epoch:  1\n",
      "0.7086170702984999\n",
      "Epoch:  1\n",
      "0.7086682709538682\n",
      "Epoch:  1\n",
      "0.7087194716092367\n",
      "Epoch:  1\n",
      "0.708770672264605\n",
      "Epoch:  1\n",
      "0.7088218729199733\n",
      "Epoch:  1\n",
      "0.7088730735753418\n",
      "Epoch:  1\n",
      "0.7089242742307101\n",
      "Epoch:  1\n",
      "0.7089754748860786\n",
      "Epoch:  1\n",
      "0.7090266755414469\n",
      "Epoch:  1\n",
      "0.7090778761968153\n",
      "Epoch:  1\n",
      "0.7091290768521837\n",
      "Epoch:  1\n",
      "0.7091802775075521\n",
      "Epoch:  1\n",
      "0.7092314781629205\n",
      "Epoch:  1\n",
      "0.7092826788182889\n",
      "Epoch:  1\n",
      "0.7093338794736572\n",
      "Epoch:  1\n",
      "0.7093850801290257\n",
      "Epoch:  1\n",
      "0.709436280784394\n",
      "Epoch:  1\n",
      "0.7094874814397625\n",
      "Epoch:  1\n",
      "0.7095386820951308\n",
      "Epoch:  1\n",
      "0.7095898827504992\n",
      "Epoch:  1\n",
      "0.7096410834058676\n",
      "Epoch:  1\n",
      "0.709692284061236\n",
      "Epoch:  1\n",
      "0.7097434847166044\n",
      "Epoch:  1\n",
      "0.7097946853719728\n",
      "Epoch:  1\n",
      "0.7098458860273411\n",
      "Epoch:  1\n",
      "0.7098970866827096\n",
      "Epoch:  1\n",
      "0.7099482873380779\n",
      "Epoch:  1\n",
      "0.7099994879934464\n",
      "Epoch:  1\n",
      "0.7100506886488147\n",
      "Epoch:  1\n",
      "0.710101889304183\n",
      "Epoch:  1\n",
      "0.7101530899595515\n",
      "Epoch:  1\n",
      "0.7102042906149199\n",
      "Epoch:  1\n",
      "0.7102554912702883\n",
      "Epoch:  1\n",
      "0.7103066919256567\n",
      "Epoch:  1\n",
      "0.710357892581025\n",
      "Epoch:  1\n",
      "0.7104090932363935\n",
      "Epoch:  1\n",
      "0.7104602938917618\n",
      "Epoch:  1\n",
      "0.7105114945471303\n",
      "Epoch:  1\n",
      "0.7105626952024986\n",
      "Epoch:  1\n",
      "0.7106138958578669\n",
      "Epoch:  1\n",
      "0.7106650965132354\n",
      "Epoch:  1\n",
      "0.7107162971686037\n",
      "Epoch:  1\n",
      "0.7107674978239722\n",
      "Epoch:  1\n",
      "0.7108186984793405\n",
      "Epoch:  1\n",
      "0.7108698991347089\n",
      "Epoch:  1\n",
      "0.7109210997900773\n",
      "Epoch:  1\n",
      "0.7109723004454457\n",
      "Epoch:  1\n",
      "0.7110235011008141\n",
      "Epoch:  1\n",
      "0.7110747017561825\n",
      "Epoch:  1\n",
      "0.7111259024115508\n",
      "Epoch:  1\n",
      "0.7111771030669193\n",
      "Epoch:  1\n",
      "0.7112283037222876\n",
      "Epoch:  1\n",
      "0.7112795043776561\n",
      "Epoch:  1\n",
      "0.7113307050330244\n",
      "Epoch:  1\n",
      "0.7113819056883928\n",
      "Epoch:  1\n",
      "0.7114331063437612\n",
      "Epoch:  1\n",
      "0.7114843069991296\n",
      "Epoch:  1\n",
      "0.711535507654498\n",
      "Epoch:  1\n",
      "0.7115867083098664\n",
      "Epoch:  1\n",
      "0.7116379089652347\n",
      "Epoch:  1\n",
      "0.7116891096206032\n",
      "Epoch:  1\n",
      "0.7117403102759715\n",
      "Epoch:  1\n",
      "0.71179151093134\n",
      "Epoch:  1\n",
      "0.7118427115867083\n",
      "Epoch:  1\n",
      "0.7118939122420767\n",
      "Epoch:  1\n",
      "0.7119451128974451\n",
      "Epoch:  1\n",
      "0.7119963135528135\n",
      "Epoch:  1\n",
      "0.7120475142081819\n",
      "Epoch:  1\n",
      "0.7120987148635503\n",
      "Epoch:  1\n",
      "0.7121499155189186\n",
      "Epoch:  1\n",
      "0.712201116174287\n",
      "Epoch:  1\n",
      "0.7122523168296554\n",
      "Epoch:  1\n",
      "0.7123035174850239\n",
      "Epoch:  1\n",
      "0.7123547181403922\n",
      "Epoch:  1\n",
      "0.7124059187957605\n",
      "Epoch:  1\n",
      "0.712457119451129\n",
      "Epoch:  1\n",
      "0.7125083201064973\n",
      "Epoch:  1\n",
      "0.7125595207618658\n",
      "Epoch:  1\n",
      "0.7126107214172341\n",
      "Epoch:  1\n",
      "0.7126619220726025\n",
      "Epoch:  1\n",
      "0.7127131227279709\n"
     ]
    }
   ],
   "source": [
    "import time\n",
    "STARTTIME=time.time()\n",
    "total_iters=len(train)//512\n",
    "for ii in range(13786,total_iters):\n",
    "    ids=np.random.choice(len(train),512,replace=False)\n",
    "    encoder_yearly.fit_encoder(train[ids], save_memory=True, verbose=True)\n",
    "    elapsed=time.time()-STARTTIME\n",
    "    print(ii/total_iters)"
   ]
  },
  {
   "cell_type": "code",
   "execution_count": 9,
   "metadata": {},
   "outputs": [
    {
     "data": {
      "text/plain": [
       "13786"
      ]
     },
     "execution_count": 9,
     "metadata": {},
     "output_type": "execute_result"
    }
   ],
   "source": [
    "ii"
   ]
  },
  {
   "cell_type": "code",
   "execution_count": 10,
   "metadata": {},
   "outputs": [],
   "source": [
    "y0s=[]\n",
    "labs=[]\n",
    "for k_id in range(14):\n",
    "\n",
    "  K,n=sample_comp_kernel(k_i=k_id) if k_id!=13 else sample_mix_kernel()\n",
    "  y0=sample_gaussian(5000,C=K.cov(xs,xs)+n*np.eye(len(xs)))\n",
    "  y0s.append(y0)\n",
    "  labs=labs+[k_id]*len(y0)\n",
    "\n",
    "y0s=np.concatenate(y0s,0)\n",
    "labs=np.array(labs)\n",
    "rp=np.random.permutation(len(y0s))\n",
    "y0s=y0s[rp]\n",
    "labs=labs[rp]\n"
   ]
  },
  {
   "cell_type": "code",
   "execution_count": 11,
   "metadata": {},
   "outputs": [],
   "source": [
    "test=rand_rescale(y0s)[:,None,:]"
   ]
  },
  {
   "cell_type": "code",
   "execution_count": null,
   "metadata": {},
   "outputs": [],
   "source": []
  },
  {
   "cell_type": "code",
   "execution_count": 12,
   "metadata": {},
   "outputs": [],
   "source": [
    "xx = encoder_yearly.encode(test,batch_size=10)\n"
   ]
  },
  {
   "cell_type": "code",
   "execution_count": 13,
   "metadata": {},
   "outputs": [
    {
     "data": {
      "text/plain": [
       "(70000, 320)"
      ]
     },
     "execution_count": 13,
     "metadata": {},
     "output_type": "execute_result"
    }
   ],
   "source": [
    "xx.shape"
   ]
  },
  {
   "cell_type": "code",
   "execution_count": 14,
   "metadata": {},
   "outputs": [],
   "source": [
    "from sklearn.linear_model import SGDClassifier\n",
    "clf=SGDClassifier(alpha=10**-6)"
   ]
  },
  {
   "cell_type": "code",
   "execution_count": 15,
   "metadata": {},
   "outputs": [
    {
     "data": {
      "text/plain": [
       "SGDClassifier(alpha=1e-06)"
      ]
     },
     "execution_count": 15,
     "metadata": {},
     "output_type": "execute_result"
    }
   ],
   "source": [
    "clf.fit(xx[:len(test)//2],labs[:len(test)//2])"
   ]
  },
  {
   "cell_type": "code",
   "execution_count": 16,
   "metadata": {},
   "outputs": [
    {
     "data": {
      "text/plain": [
       "0.8049714285714286"
      ]
     },
     "execution_count": 16,
     "metadata": {},
     "output_type": "execute_result"
    }
   ],
   "source": [
    "clf.score(xx[len(test)//2:],labs[len(test)//2:len(test)])"
   ]
  },
  {
   "cell_type": "code",
   "execution_count": null,
   "metadata": {},
   "outputs": [],
   "source": []
  }
 ],
 "metadata": {
  "kernelspec": {
   "display_name": "Python 3",
   "language": "python",
   "name": "python3"
  },
  "language_info": {
   "codemirror_mode": {
    "name": "ipython",
    "version": 3
   },
   "file_extension": ".py",
   "mimetype": "text/x-python",
   "name": "python",
   "nbconvert_exporter": "python",
   "pygments_lexer": "ipython3",
   "version": "3.8.5"
  }
 },
 "nbformat": 4,
 "nbformat_minor": 4
}
