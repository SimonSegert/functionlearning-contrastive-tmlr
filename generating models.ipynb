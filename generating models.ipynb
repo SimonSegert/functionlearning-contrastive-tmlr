{
 "cells": [
  {
   "cell_type": "code",
   "execution_count": 1,
   "metadata": {},
   "outputs": [],
   "source": [
    "import os"
   ]
  },
  {
   "cell_type": "code",
   "execution_count": 2,
   "metadata": {},
   "outputs": [],
   "source": [
    "os.chdir('/home/simon/Desktop/Code/functionlearning-contrastive')"
   ]
  },
  {
   "cell_type": "code",
   "execution_count": 15,
   "metadata": {},
   "outputs": [],
   "source": [
    "#os.mkdir('saved_models_may3')\n",
    "for xx in ['contrastive','vae','tnc','tloss']:\n",
    "    os.mkdir(f'saved_models_may3/{xx}')"
   ]
  },
  {
   "cell_type": "code",
   "execution_count": 16,
   "metadata": {},
   "outputs": [],
   "source": [
    "runs=3\n",
    "n_epochs=10\n",
    "xj=.4\n",
    "yj=0\n",
    "for run_id in range(runs):\n",
    "    contrastive_str=f'python training.py --save_dir saved_models_may3/contrastive/run{run_id}'\n",
    "    contrastive_str+=f' --n_epochs {n_epochs} --model_name contrastive --lr .001'\n",
    "    contrastive_str+=f' --x_jitter_strength {xj}'\n",
    "    contrastive_str+=f' --y_jitter_strength {yj} --h_size {128}'\n",
    "    os.system(contrastive_str)\n",
    "        \n",
    "\n",
    "    vae_str=f'python training.py --save_dir saved_models_may3/vae/run{run_id} --n_epochs {n_epochs} --model_name vae --lr .001 --h_size 128'\n",
    "    os.system(vae_str)\n",
    "    tloss_str=f'python training.py --save_dir saved_models_may3/tloss/run{run_id}'\n",
    "    tloss_str+=f' --n_epochs {n_epochs} --model_name t-loss --lr .001 --h_size 128'\n",
    "    os.system(tloss_str)\n",
    "    for h_size in [25,128]:\n",
    "        tnc_str=f'python training.py --save_dir saved_models_may3/tnc/h={h_size}_run{run_id}'\n",
    "        tnc_str+=f' --n_epochs {n_epochs} --model_name tnc --lr .001 --h_size {h_size}'\n",
    "        os.system(tnc_str)\n"
   ]
  },
  {
   "cell_type": "code",
   "execution_count": 4,
   "metadata": {},
   "outputs": [],
   "source": [
    "n_epochs=10\n",
    "\n",
    "for run_id in range(3):\n",
    "    tloss_str=f'python training.py --save_dir saved_models_may3/tloss/run{run_id}'\n",
    "    tloss_str+=f' --n_epochs {n_epochs} --model_name t-loss --lr .001 --h_size 128'\n",
    "    os.system(tloss_str)\n"
   ]
  },
  {
   "cell_type": "code",
   "execution_count": null,
   "metadata": {},
   "outputs": [],
   "source": [
    "#seems like xjitter=.4, yjitter=0 slightly edges out the others..."
   ]
  },
  {
   "cell_type": "code",
   "execution_count": 6,
   "metadata": {},
   "outputs": [],
   "source": [
    "n_epochs=10\n",
    "#cpc implementation can handle window up to size 10,use h_size=13 to get approx 128 for global rep\n",
    "for run_id in range(3):\n",
    "    cpc_str=f'python training.py --save_dir saved_models_may3/cpc/run{run_id}'\n",
    "    cpc_str+=f' --n_epochs {n_epochs} --model_name cpc --lr .001 --h_size 13 --tnc_window 10'\n",
    "    os.system(cpc_str)\n",
    "\n"
   ]
  },
  {
   "cell_type": "code",
   "execution_count": 3,
   "metadata": {},
   "outputs": [],
   "source": [
    "n_epochs=10\n",
    "#save the autoregressor as well; probably more correct than using encoding values\n",
    "#cpc implementation can handle window up to size 10,use h_size=13 to get approx 128 for global rep\n",
    "for run_id in range(3):\n",
    "    cpc_str=f'python training.py --save_dir saved_models_may3/cpc/incl_ar_run{run_id}'\n",
    "    cpc_str+=f' --n_epochs {n_epochs} --model_name cpc --lr .001 --h_size 128 --tnc_window 10'\n",
    "    os.system(cpc_str)\n"
   ]
  },
  {
   "cell_type": "code",
   "execution_count": null,
   "metadata": {},
   "outputs": [],
   "source": [
    "import torch\n",
    "\n",
    "xs=torch.randn((64,2))\n",
    "ys=torch.rand((64,2))"
   ]
  },
  {
   "cell_type": "code",
   "execution_count": 4,
   "metadata": {},
   "outputs": [],
   "source": [
    "n_epochs=10\n",
    "\n",
    "for run_id in range(3):\n",
    "    for h_size in [25]:\n",
    "        tnc_str=f'python training.py --save_dir saved_models_may3/tnc/with_.99cv_h={h_size}_run{run_id}'\n",
    "        tnc_str+=f' --n_epochs {n_epochs} --model_name tnc --lr .001 --h_size {h_size}'\n",
    "        os.system(tnc_str)\n"
   ]
  },
  {
   "cell_type": "code",
   "execution_count": null,
   "metadata": {},
   "outputs": [],
   "source": []
  },
  {
   "cell_type": "code",
   "execution_count": 8,
   "metadata": {},
   "outputs": [
    {
     "data": {
      "text/plain": [
       "0"
      ]
     },
     "execution_count": 8,
     "metadata": {},
     "output_type": "execute_result"
    }
   ],
   "source": []
  },
  {
   "cell_type": "code",
   "execution_count": 5,
   "metadata": {},
   "outputs": [
    {
     "data": {
      "text/plain": [
       "25"
      ]
     },
     "execution_count": 5,
     "metadata": {},
     "output_type": "execute_result"
    }
   ],
   "source": []
  },
  {
   "cell_type": "code",
   "execution_count": null,
   "metadata": {},
   "outputs": [],
   "source": []
  }
 ],
 "metadata": {
  "kernelspec": {
   "display_name": "Python 3",
   "language": "python",
   "name": "python3"
  },
  "language_info": {
   "codemirror_mode": {
    "name": "ipython",
    "version": 3
   },
   "file_extension": ".py",
   "mimetype": "text/x-python",
   "name": "python",
   "nbconvert_exporter": "python",
   "pygments_lexer": "ipython3",
   "version": "3.8.5"
  }
 },
 "nbformat": 4,
 "nbformat_minor": 4
}
